{
 "cells": [
  {
   "cell_type": "markdown",
   "metadata": {},
   "source": [
    "Ли-Зан-Мен Сергей\n",
    "\n",
    "lizanmensergej@gmail.com"
   ]
  },
  {
   "cell_type": "markdown",
   "metadata": {},
   "source": [
    "# 1.Тестовое задание\n",
    "\n",
    "Нужно проверить статистические гипотезы о значимости признаков feature1 и feature2 (понять дают ли эти признаки какую-либо информацию для целевой переменной).\n",
    "\n",
    "**Описание колонок:**\n",
    "\n",
    "1. `time` - время подачи заявки или время оформления займа\n",
    "\n",
    "1. `type` - тип записи в таблице (заявка или займ)\n",
    "\n",
    "1. `amount` - сумма заявки/займа\n",
    "\n",
    "1. `target` - целевая переменная\n",
    "\n",
    "1. `feature1` - какой-то признак\n",
    "\n",
    "1. `feature2` - какой-то признак"
   ]
  },
  {
   "cell_type": "code",
   "execution_count": 1,
   "metadata": {
    "scrolled": true
   },
   "outputs": [],
   "source": [
    "import seaborn as sns\n",
    "import matplotlib.pyplot as plt\n",
    "import pandas as pd\n",
    "import numpy as np\n",
    "\n",
    "from scipy.stats import chi2_contingency\n",
    "\n",
    "import warnings\n",
    "warnings.simplefilter('ignore')\n",
    "\n",
    "\n",
    "%matplotlib inline"
   ]
  },
  {
   "cell_type": "code",
   "execution_count": 2,
   "metadata": {},
   "outputs": [],
   "source": [
    "# Настройки для графиков\n",
    "sns.set(style='whitegrid',\n",
    "        font_scale=1.2,\n",
    "        rc={'figure.figsize': (14, 6)})"
   ]
  },
  {
   "cell_type": "code",
   "execution_count": 3,
   "metadata": {},
   "outputs": [],
   "source": [
    "# Функция для подписи графика\n",
    "def sets_for_plot(plot, title='', title_fontsize=22, \n",
    "                  xlabel='', xlabel_fontsize=18, \n",
    "                  ylabel='', ylabel_fontsize=18):\n",
    "    \n",
    "    plot.set_title(title, fontsize=title_fontsize)\n",
    "    plot.set_xlabel(xlabel, fontsize=xlabel_fontsize)\n",
    "    plot.set_ylabel(ylabel, fontsize=ylabel_fontsize)"
   ]
  },
  {
   "cell_type": "markdown",
   "metadata": {},
   "source": [
    " ## Загрузка и предобработка данных"
   ]
  },
  {
   "cell_type": "code",
   "execution_count": 4,
   "metadata": {},
   "outputs": [
    {
     "data": {
      "text/html": [
       "<div>\n",
       "<style scoped>\n",
       "    .dataframe tbody tr th:only-of-type {\n",
       "        vertical-align: middle;\n",
       "    }\n",
       "\n",
       "    .dataframe tbody tr th {\n",
       "        vertical-align: top;\n",
       "    }\n",
       "\n",
       "    .dataframe thead th {\n",
       "        text-align: right;\n",
       "    }\n",
       "</style>\n",
       "<table border=\"1\" class=\"dataframe\">\n",
       "  <thead>\n",
       "    <tr style=\"text-align: right;\">\n",
       "      <th></th>\n",
       "      <th>time</th>\n",
       "      <th>user_id</th>\n",
       "      <th>type</th>\n",
       "      <th>amount</th>\n",
       "      <th>target</th>\n",
       "      <th>feature1</th>\n",
       "      <th>feature2</th>\n",
       "      <th>events_ordinal_number</th>\n",
       "      <th>second_event_time</th>\n",
       "      <th>loan_ordinal_number</th>\n",
       "      <th>events_time_diff</th>\n",
       "      <th>previous_loans_max_amount</th>\n",
       "    </tr>\n",
       "  </thead>\n",
       "  <tbody>\n",
       "    <tr>\n",
       "      <th>0</th>\n",
       "      <td>2001-01-01 00:00:00</td>\n",
       "      <td>114</td>\n",
       "      <td>loanRequest</td>\n",
       "      <td>14651</td>\n",
       "      <td>NaN</td>\n",
       "      <td>1</td>\n",
       "      <td>1</td>\n",
       "      <td>1</td>\n",
       "      <td>2001-01-25 05:00:00</td>\n",
       "      <td>1</td>\n",
       "      <td>NaN</td>\n",
       "      <td>NaN</td>\n",
       "    </tr>\n",
       "    <tr>\n",
       "      <th>1</th>\n",
       "      <td>2001-01-01 01:00:00</td>\n",
       "      <td>199</td>\n",
       "      <td>loanRequest</td>\n",
       "      <td>13398</td>\n",
       "      <td>NaN</td>\n",
       "      <td>0</td>\n",
       "      <td>0</td>\n",
       "      <td>1</td>\n",
       "      <td>2001-01-08 01:00:00</td>\n",
       "      <td>1</td>\n",
       "      <td>NaN</td>\n",
       "      <td>NaN</td>\n",
       "    </tr>\n",
       "    <tr>\n",
       "      <th>2</th>\n",
       "      <td>2001-01-01 02:00:00</td>\n",
       "      <td>717</td>\n",
       "      <td>loanRequest</td>\n",
       "      <td>14525</td>\n",
       "      <td>NaN</td>\n",
       "      <td>0</td>\n",
       "      <td>0</td>\n",
       "      <td>1</td>\n",
       "      <td>2001-01-09 16:00:00</td>\n",
       "      <td>1</td>\n",
       "      <td>NaN</td>\n",
       "      <td>NaN</td>\n",
       "    </tr>\n",
       "    <tr>\n",
       "      <th>3</th>\n",
       "      <td>2001-01-01 03:00:00</td>\n",
       "      <td>66</td>\n",
       "      <td>loan</td>\n",
       "      <td>14437</td>\n",
       "      <td>1.0</td>\n",
       "      <td>1</td>\n",
       "      <td>1</td>\n",
       "      <td>1</td>\n",
       "      <td>2001-03-27 17:00:00</td>\n",
       "      <td>1</td>\n",
       "      <td>NaN</td>\n",
       "      <td>NaN</td>\n",
       "    </tr>\n",
       "    <tr>\n",
       "      <th>4</th>\n",
       "      <td>2001-01-01 04:00:00</td>\n",
       "      <td>584</td>\n",
       "      <td>loanRequest</td>\n",
       "      <td>15861</td>\n",
       "      <td>NaN</td>\n",
       "      <td>1</td>\n",
       "      <td>0</td>\n",
       "      <td>1</td>\n",
       "      <td>2001-01-05 10:00:00</td>\n",
       "      <td>1</td>\n",
       "      <td>NaN</td>\n",
       "      <td>NaN</td>\n",
       "    </tr>\n",
       "  </tbody>\n",
       "</table>\n",
       "</div>"
      ],
      "text/plain": [
       "                  time  user_id         type  amount  target  feature1  \\\n",
       "0  2001-01-01 00:00:00      114  loanRequest   14651     NaN         1   \n",
       "1  2001-01-01 01:00:00      199  loanRequest   13398     NaN         0   \n",
       "2  2001-01-01 02:00:00      717  loanRequest   14525     NaN         0   \n",
       "3  2001-01-01 03:00:00       66         loan   14437     1.0         1   \n",
       "4  2001-01-01 04:00:00      584  loanRequest   15861     NaN         1   \n",
       "\n",
       "   feature2  events_ordinal_number    second_event_time  loan_ordinal_number  \\\n",
       "0         1                      1  2001-01-25 05:00:00                    1   \n",
       "1         0                      1  2001-01-08 01:00:00                    1   \n",
       "2         0                      1  2001-01-09 16:00:00                    1   \n",
       "3         1                      1  2001-03-27 17:00:00                    1   \n",
       "4         0                      1  2001-01-05 10:00:00                    1   \n",
       "\n",
       "  events_time_diff  previous_loans_max_amount  \n",
       "0              NaN                        NaN  \n",
       "1              NaN                        NaN  \n",
       "2              NaN                        NaN  \n",
       "3              NaN                        NaN  \n",
       "4              NaN                        NaN  "
      ]
     },
     "execution_count": 4,
     "metadata": {},
     "output_type": "execute_result"
    }
   ],
   "source": [
    "# Загрузка датасета\n",
    "feb_22_data = pd.read_csv('test_Feb22.csv', index_col=0)\n",
    "feb_22_data.head()"
   ]
  },
  {
   "cell_type": "code",
   "execution_count": 5,
   "metadata": {},
   "outputs": [
    {
     "data": {
      "text/html": [
       "<div>\n",
       "<style scoped>\n",
       "    .dataframe tbody tr th:only-of-type {\n",
       "        vertical-align: middle;\n",
       "    }\n",
       "\n",
       "    .dataframe tbody tr th {\n",
       "        vertical-align: top;\n",
       "    }\n",
       "\n",
       "    .dataframe thead th {\n",
       "        text-align: right;\n",
       "    }\n",
       "</style>\n",
       "<table border=\"1\" class=\"dataframe\">\n",
       "  <thead>\n",
       "    <tr style=\"text-align: right;\">\n",
       "      <th></th>\n",
       "      <th>user_id</th>\n",
       "      <th>feature1</th>\n",
       "      <th>feature2</th>\n",
       "      <th>target</th>\n",
       "    </tr>\n",
       "  </thead>\n",
       "  <tbody>\n",
       "    <tr>\n",
       "      <th>0</th>\n",
       "      <td>114</td>\n",
       "      <td>1</td>\n",
       "      <td>1</td>\n",
       "      <td>NaN</td>\n",
       "    </tr>\n",
       "    <tr>\n",
       "      <th>1</th>\n",
       "      <td>199</td>\n",
       "      <td>0</td>\n",
       "      <td>0</td>\n",
       "      <td>NaN</td>\n",
       "    </tr>\n",
       "    <tr>\n",
       "      <th>2</th>\n",
       "      <td>717</td>\n",
       "      <td>0</td>\n",
       "      <td>0</td>\n",
       "      <td>NaN</td>\n",
       "    </tr>\n",
       "    <tr>\n",
       "      <th>3</th>\n",
       "      <td>66</td>\n",
       "      <td>1</td>\n",
       "      <td>1</td>\n",
       "      <td>1.0</td>\n",
       "    </tr>\n",
       "    <tr>\n",
       "      <th>4</th>\n",
       "      <td>584</td>\n",
       "      <td>1</td>\n",
       "      <td>0</td>\n",
       "      <td>NaN</td>\n",
       "    </tr>\n",
       "    <tr>\n",
       "      <th>5</th>\n",
       "      <td>218</td>\n",
       "      <td>0</td>\n",
       "      <td>0</td>\n",
       "      <td>NaN</td>\n",
       "    </tr>\n",
       "    <tr>\n",
       "      <th>6</th>\n",
       "      <td>179</td>\n",
       "      <td>0</td>\n",
       "      <td>0</td>\n",
       "      <td>1.0</td>\n",
       "    </tr>\n",
       "    <tr>\n",
       "      <th>7</th>\n",
       "      <td>214</td>\n",
       "      <td>1</td>\n",
       "      <td>0</td>\n",
       "      <td>1.0</td>\n",
       "    </tr>\n",
       "    <tr>\n",
       "      <th>8</th>\n",
       "      <td>551</td>\n",
       "      <td>1</td>\n",
       "      <td>1</td>\n",
       "      <td>NaN</td>\n",
       "    </tr>\n",
       "    <tr>\n",
       "      <th>9</th>\n",
       "      <td>188</td>\n",
       "      <td>1</td>\n",
       "      <td>0</td>\n",
       "      <td>NaN</td>\n",
       "    </tr>\n",
       "  </tbody>\n",
       "</table>\n",
       "</div>"
      ],
      "text/plain": [
       "   user_id  feature1  feature2  target\n",
       "0      114         1         1     NaN\n",
       "1      199         0         0     NaN\n",
       "2      717         0         0     NaN\n",
       "3       66         1         1     1.0\n",
       "4      584         1         0     NaN\n",
       "5      218         0         0     NaN\n",
       "6      179         0         0     1.0\n",
       "7      214         1         0     1.0\n",
       "8      551         1         1     NaN\n",
       "9      188         1         0     NaN"
      ]
     },
     "execution_count": 5,
     "metadata": {},
     "output_type": "execute_result"
    }
   ],
   "source": [
    "# Оставим только нужные поля\n",
    "features_data = feb_22_data[['user_id', 'feature1', 'feature2', 'target']]\n",
    "features_data.head(10)"
   ]
  },
  {
   "cell_type": "markdown",
   "metadata": {},
   "source": [
    "Видно, что для целевой переменной имеются пустые значения. Проверим признаки на наличие NAN"
   ]
  },
  {
   "cell_type": "code",
   "execution_count": 6,
   "metadata": {},
   "outputs": [
    {
     "data": {
      "text/plain": [
       "user_id        0\n",
       "feature1       0\n",
       "feature2       0\n",
       "target      7981\n",
       "dtype: int64"
      ]
     },
     "execution_count": 6,
     "metadata": {},
     "output_type": "execute_result"
    }
   ],
   "source": [
    "features_data.isna().sum()"
   ]
  },
  {
   "cell_type": "code",
   "execution_count": 7,
   "metadata": {},
   "outputs": [
    {
     "data": {
      "text/html": [
       "<div>\n",
       "<style scoped>\n",
       "    .dataframe tbody tr th:only-of-type {\n",
       "        vertical-align: middle;\n",
       "    }\n",
       "\n",
       "    .dataframe tbody tr th {\n",
       "        vertical-align: top;\n",
       "    }\n",
       "\n",
       "    .dataframe thead th {\n",
       "        text-align: right;\n",
       "    }\n",
       "</style>\n",
       "<table border=\"1\" class=\"dataframe\">\n",
       "  <thead>\n",
       "    <tr style=\"text-align: right;\">\n",
       "      <th></th>\n",
       "      <th>user_id</th>\n",
       "      <th>feature1</th>\n",
       "      <th>feature2</th>\n",
       "      <th>target</th>\n",
       "    </tr>\n",
       "  </thead>\n",
       "  <tbody>\n",
       "    <tr>\n",
       "      <th>0</th>\n",
       "      <td>114</td>\n",
       "      <td>1</td>\n",
       "      <td>1</td>\n",
       "      <td>0.0</td>\n",
       "    </tr>\n",
       "    <tr>\n",
       "      <th>1</th>\n",
       "      <td>199</td>\n",
       "      <td>0</td>\n",
       "      <td>0</td>\n",
       "      <td>0.0</td>\n",
       "    </tr>\n",
       "    <tr>\n",
       "      <th>2</th>\n",
       "      <td>717</td>\n",
       "      <td>0</td>\n",
       "      <td>0</td>\n",
       "      <td>0.0</td>\n",
       "    </tr>\n",
       "    <tr>\n",
       "      <th>3</th>\n",
       "      <td>66</td>\n",
       "      <td>1</td>\n",
       "      <td>1</td>\n",
       "      <td>1.0</td>\n",
       "    </tr>\n",
       "    <tr>\n",
       "      <th>4</th>\n",
       "      <td>584</td>\n",
       "      <td>1</td>\n",
       "      <td>0</td>\n",
       "      <td>0.0</td>\n",
       "    </tr>\n",
       "  </tbody>\n",
       "</table>\n",
       "</div>"
      ],
      "text/plain": [
       "   user_id  feature1  feature2  target\n",
       "0      114         1         1     0.0\n",
       "1      199         0         0     0.0\n",
       "2      717         0         0     0.0\n",
       "3       66         1         1     1.0\n",
       "4      584         1         0     0.0"
      ]
     },
     "execution_count": 7,
     "metadata": {},
     "output_type": "execute_result"
    }
   ],
   "source": [
    "# Заполним пропущенные значения\n",
    "features_data.fillna(0, inplace=True)\n",
    "features_data.head()"
   ]
  },
  {
   "cell_type": "markdown",
   "metadata": {},
   "source": [
    "Передохнем (ударение на е) и проанализируем ситуацию:\n",
    "* Два номинативных признака\n",
    "* Зависимая переменная - дихотомическая\n",
    "* Требуется оценить наличие их влияния (по отдельности или в совокупности) на целевую переменную\n",
    "\n",
    "Для начала необходимо оценить зависимость между признаками, ведь если зависимость присутствует (например, если f1 = 1, то f2 с вероятностью 90 % будет принимать значение 1), то включение обоих признаков в анализ может только ухудшить результаты.\n",
    "\n",
    "Допустим гипотеза о независимости признаков подтвердилась, а что дальше?\n",
    "\n",
    "При двух независимых номинативных признаках и дихотомической целевой переменной в моей голове всплывает два критерия: Q-критерий Кохрена и Критерий Хи-квадрат. \n",
    "\n",
    "После долгих размышлений я понял, что Q-критерий не подойдет под нашу конкретную ситуацию: если использовать в качестве воздействия f1 и f2, это не совсем логично, т.к. воздействия должны быть однородные, хотя если независимость признаков не подтвердится еще посмотрим:D. Еще была идея принимать в качестве воздействий месяца, в которые приходили юзеры, но не совсем ясно куда добавить признаки + в задании не требуется оценивать признак 'time'.\n",
    "\n",
    "Остался критерий Хи-квадрат. В качестве условий будут всевозможные комбинации f1 и f2 , в качестве исхода результаты целевой переменной"
   ]
  },
  {
   "cell_type": "markdown",
   "metadata": {},
   "source": [
    "# Оценим независимость признаков\n",
    "Для того чтобы оценить зависимость двух номинативных переменных также используем критерий Хи-квадрат. В качестве целевой примем f2, хотя это и не принципиально.\n",
    "\n",
    "H0: различия эмпирических и теоретических частот статистически не значительны\n",
    "\n",
    "α = 0.05"
   ]
  },
  {
   "cell_type": "code",
   "execution_count": 8,
   "metadata": {},
   "outputs": [
    {
     "data": {
      "text/html": [
       "<div>\n",
       "<style scoped>\n",
       "    .dataframe tbody tr th:only-of-type {\n",
       "        vertical-align: middle;\n",
       "    }\n",
       "\n",
       "    .dataframe tbody tr th {\n",
       "        vertical-align: top;\n",
       "    }\n",
       "\n",
       "    .dataframe thead th {\n",
       "        text-align: right;\n",
       "    }\n",
       "</style>\n",
       "<table border=\"1\" class=\"dataframe\">\n",
       "  <thead>\n",
       "    <tr style=\"text-align: right;\">\n",
       "      <th>feature2</th>\n",
       "      <th>0</th>\n",
       "      <th>1</th>\n",
       "    </tr>\n",
       "    <tr>\n",
       "      <th>feature1</th>\n",
       "      <th></th>\n",
       "      <th></th>\n",
       "    </tr>\n",
       "  </thead>\n",
       "  <tbody>\n",
       "    <tr>\n",
       "      <th>0</th>\n",
       "      <td>2008</td>\n",
       "      <td>1992</td>\n",
       "    </tr>\n",
       "    <tr>\n",
       "      <th>1</th>\n",
       "      <td>2992</td>\n",
       "      <td>3008</td>\n",
       "    </tr>\n",
       "  </tbody>\n",
       "</table>\n",
       "</div>"
      ],
      "text/plain": [
       "feature2     0     1\n",
       "feature1            \n",
       "0         2008  1992\n",
       "1         2992  3008"
      ]
     },
     "execution_count": 8,
     "metadata": {},
     "output_type": "execute_result"
    }
   ],
   "source": [
    "# Рассчитаем таблицу сопряженности для двух переменных\n",
    "obs_pivot = pd.pivot_table(data=features_data, index='feature1', \n",
    "                           columns='feature2', values='user_id', \n",
    "                           aggfunc='count')\n",
    "obs_pivot"
   ]
  },
  {
   "cell_type": "code",
   "execution_count": 9,
   "metadata": {},
   "outputs": [],
   "source": [
    "# Функция для рассчета критерия Хи-квадрат\n",
    "def get_chi2(obs_data):\n",
    "    # Без поправки Йетса\n",
    "    chi_2 = chi2_contingency(obs_data, correction=False)\n",
    "    \n",
    "    # С поправкой Йетса\n",
    "    chi_2_yates = chi2_contingency(obs_data)\n",
    "    \n",
    "    # Возвращает все параметры для критерия без поправки Йетса + \n",
    "    # chi2 и p для поправка Йетса\n",
    "    return chi_2 + chi_2_yates[:2]"
   ]
  },
  {
   "cell_type": "code",
   "execution_count": 10,
   "metadata": {
    "scrolled": true
   },
   "outputs": [
    {
     "name": "stdout",
     "output_type": "stream",
     "text": [
      "Эмпирические значения:\n",
      " [[2008 1992]\n",
      " [2992 3008]]\n",
      "Теоретически ожидаемые значения:\n",
      " [[2000. 2000.]\n",
      " [3000. 3000.]]\n",
      "\n",
      "Значение pvalue для Хи-квадрат: 0.744\n",
      "Значение pvalue с поправкой Йетса: 0.7595\n"
     ]
    }
   ],
   "source": [
    "chi2, p, dof, ex, chi2_yates, p_yates = get_chi2(obs_pivot)\n",
    "\n",
    "print('Эмпирические значения:\\n', obs_pivot.values)\n",
    "print('Теоретически ожидаемые значения:\\n', ex)\n",
    "print('\\nЗначение pvalue для Хи-квадрат:', round(p, 4))\n",
    "print('Значение pvalue с поправкой Йетса:', round(p_yates, 4))"
   ]
  },
  {
   "cell_type": "markdown",
   "metadata": {},
   "source": [
    "Поправку Йетса использовать было не обязательно, т.к. число наблюдений велико, но как истинный аналитик я попробовал. Результаты не различаются и в обоих случаях p-value выше 0.05.\n",
    "\n",
    "Значит ли это что получилось доказать независимость признаков?\n",
    "\n",
    "Нет:)\n",
    "\n",
    "\n",
    "<img src=\"https://i.kym-cdn.com/photos/images/newsfeed/002/205/307/1f7.jpg\" width= 200;/>\n",
    "\n",
    "Все из-за того, что в наших наблюдениях есть проблема: критерий хи-квадрат предполагает независимость выборок, в нашем случае на каждого юзера приходится несколько наблюдений. Чтобы получить независимые выборки найдем для каждого клиента моду."
   ]
  },
  {
   "cell_type": "code",
   "execution_count": 11,
   "metadata": {},
   "outputs": [
    {
     "data": {
      "text/html": [
       "<div>\n",
       "<style scoped>\n",
       "    .dataframe tbody tr th:only-of-type {\n",
       "        vertical-align: middle;\n",
       "    }\n",
       "\n",
       "    .dataframe tbody tr th {\n",
       "        vertical-align: top;\n",
       "    }\n",
       "\n",
       "    .dataframe thead th {\n",
       "        text-align: right;\n",
       "    }\n",
       "</style>\n",
       "<table border=\"1\" class=\"dataframe\">\n",
       "  <thead>\n",
       "    <tr style=\"text-align: right;\">\n",
       "      <th></th>\n",
       "      <th>count</th>\n",
       "      <th>mean</th>\n",
       "      <th>std</th>\n",
       "      <th>min</th>\n",
       "      <th>25%</th>\n",
       "      <th>50%</th>\n",
       "      <th>75%</th>\n",
       "      <th>max</th>\n",
       "    </tr>\n",
       "    <tr>\n",
       "      <th>user_id</th>\n",
       "      <th></th>\n",
       "      <th></th>\n",
       "      <th></th>\n",
       "      <th></th>\n",
       "      <th></th>\n",
       "      <th></th>\n",
       "      <th></th>\n",
       "      <th></th>\n",
       "    </tr>\n",
       "  </thead>\n",
       "  <tbody>\n",
       "    <tr>\n",
       "      <th>0</th>\n",
       "      <td>12.0</td>\n",
       "      <td>0.500000</td>\n",
       "      <td>0.522233</td>\n",
       "      <td>0.0</td>\n",
       "      <td>0.0</td>\n",
       "      <td>0.5</td>\n",
       "      <td>1.0</td>\n",
       "      <td>1.0</td>\n",
       "    </tr>\n",
       "    <tr>\n",
       "      <th>1</th>\n",
       "      <td>15.0</td>\n",
       "      <td>0.400000</td>\n",
       "      <td>0.507093</td>\n",
       "      <td>0.0</td>\n",
       "      <td>0.0</td>\n",
       "      <td>0.0</td>\n",
       "      <td>1.0</td>\n",
       "      <td>1.0</td>\n",
       "    </tr>\n",
       "    <tr>\n",
       "      <th>2</th>\n",
       "      <td>17.0</td>\n",
       "      <td>0.705882</td>\n",
       "      <td>0.469668</td>\n",
       "      <td>0.0</td>\n",
       "      <td>0.0</td>\n",
       "      <td>1.0</td>\n",
       "      <td>1.0</td>\n",
       "      <td>1.0</td>\n",
       "    </tr>\n",
       "    <tr>\n",
       "      <th>3</th>\n",
       "      <td>9.0</td>\n",
       "      <td>0.888889</td>\n",
       "      <td>0.333333</td>\n",
       "      <td>0.0</td>\n",
       "      <td>1.0</td>\n",
       "      <td>1.0</td>\n",
       "      <td>1.0</td>\n",
       "      <td>1.0</td>\n",
       "    </tr>\n",
       "    <tr>\n",
       "      <th>4</th>\n",
       "      <td>11.0</td>\n",
       "      <td>0.545455</td>\n",
       "      <td>0.522233</td>\n",
       "      <td>0.0</td>\n",
       "      <td>0.0</td>\n",
       "      <td>1.0</td>\n",
       "      <td>1.0</td>\n",
       "      <td>1.0</td>\n",
       "    </tr>\n",
       "  </tbody>\n",
       "</table>\n",
       "</div>"
      ],
      "text/plain": [
       "         count      mean       std  min  25%  50%  75%  max\n",
       "user_id                                                    \n",
       "0         12.0  0.500000  0.522233  0.0  0.0  0.5  1.0  1.0\n",
       "1         15.0  0.400000  0.507093  0.0  0.0  0.0  1.0  1.0\n",
       "2         17.0  0.705882  0.469668  0.0  0.0  1.0  1.0  1.0\n",
       "3          9.0  0.888889  0.333333  0.0  1.0  1.0  1.0  1.0\n",
       "4         11.0  0.545455  0.522233  0.0  0.0  1.0  1.0  1.0"
      ]
     },
     "execution_count": 11,
     "metadata": {},
     "output_type": "execute_result"
    }
   ],
   "source": [
    "# Статистики для f1\n",
    "features_data.groupby('user_id').feature1.describe().head()"
   ]
  },
  {
   "cell_type": "markdown",
   "metadata": {},
   "source": [
    "Видно, что значение медианы идеально описывает нашу моду."
   ]
  },
  {
   "cell_type": "code",
   "execution_count": 12,
   "metadata": {},
   "outputs": [
    {
     "data": {
      "text/html": [
       "<div>\n",
       "<style scoped>\n",
       "    .dataframe tbody tr th:only-of-type {\n",
       "        vertical-align: middle;\n",
       "    }\n",
       "\n",
       "    .dataframe tbody tr th {\n",
       "        vertical-align: top;\n",
       "    }\n",
       "\n",
       "    .dataframe thead th {\n",
       "        text-align: right;\n",
       "    }\n",
       "</style>\n",
       "<table border=\"1\" class=\"dataframe\">\n",
       "  <thead>\n",
       "    <tr style=\"text-align: right;\">\n",
       "      <th></th>\n",
       "      <th>user_id</th>\n",
       "      <th>feature1</th>\n",
       "      <th>feature2</th>\n",
       "    </tr>\n",
       "  </thead>\n",
       "  <tbody>\n",
       "    <tr>\n",
       "      <th>0</th>\n",
       "      <td>0</td>\n",
       "      <td>0.5</td>\n",
       "      <td>1.0</td>\n",
       "    </tr>\n",
       "    <tr>\n",
       "      <th>1</th>\n",
       "      <td>1</td>\n",
       "      <td>0.0</td>\n",
       "      <td>1.0</td>\n",
       "    </tr>\n",
       "    <tr>\n",
       "      <th>2</th>\n",
       "      <td>2</td>\n",
       "      <td>1.0</td>\n",
       "      <td>1.0</td>\n",
       "    </tr>\n",
       "    <tr>\n",
       "      <th>3</th>\n",
       "      <td>3</td>\n",
       "      <td>1.0</td>\n",
       "      <td>0.0</td>\n",
       "    </tr>\n",
       "    <tr>\n",
       "      <th>4</th>\n",
       "      <td>4</td>\n",
       "      <td>1.0</td>\n",
       "      <td>1.0</td>\n",
       "    </tr>\n",
       "  </tbody>\n",
       "</table>\n",
       "</div>"
      ],
      "text/plain": [
       "   user_id  feature1  feature2\n",
       "0        0       0.5       1.0\n",
       "1        1       0.0       1.0\n",
       "2        2       1.0       1.0\n",
       "3        3       1.0       0.0\n",
       "4        4       1.0       1.0"
      ]
     },
     "execution_count": 12,
     "metadata": {},
     "output_type": "execute_result"
    }
   ],
   "source": [
    "# Значения популярные значения признаков для юзеров\n",
    "mods_for_users = features_data.groupby('user_id', as_index=False) \\\n",
    "                              .agg({'feature1': 'median', 'feature2': 'median'})\n",
    "mods_for_users.head()"
   ]
  },
  {
   "cell_type": "markdown",
   "metadata": {},
   "source": [
    "Т.к. переменные номинативные необходимо избавиться от значения 0.5. Т.к. признаки могут быть чем угодно нельзя предположить какое значение должно встречаться чаще, поэтому округлим в обе стороны и сравним полученные значения.\n",
    "\n",
    "Если возникнет ситуация p < 0.05, возможно потребуется более гибкое усреднение значения 0.5"
   ]
  },
  {
   "cell_type": "code",
   "execution_count": 13,
   "metadata": {},
   "outputs": [],
   "source": [
    "# Округлим значения\n",
    "round_mode_1 = mods_for_users.replace({0.5: 1})\n",
    "round_mode_0 = mods_for_users.replace({0.5: 0})"
   ]
  },
  {
   "cell_type": "code",
   "execution_count": 14,
   "metadata": {},
   "outputs": [
    {
     "data": {
      "text/html": [
       "<div>\n",
       "<style scoped>\n",
       "    .dataframe tbody tr th:only-of-type {\n",
       "        vertical-align: middle;\n",
       "    }\n",
       "\n",
       "    .dataframe tbody tr th {\n",
       "        vertical-align: top;\n",
       "    }\n",
       "\n",
       "    .dataframe thead th {\n",
       "        text-align: right;\n",
       "    }\n",
       "</style>\n",
       "<table border=\"1\" class=\"dataframe\">\n",
       "  <thead>\n",
       "    <tr style=\"text-align: right;\">\n",
       "      <th>feature2</th>\n",
       "      <th>0.0</th>\n",
       "      <th>1.0</th>\n",
       "    </tr>\n",
       "    <tr>\n",
       "      <th>feature1</th>\n",
       "      <th></th>\n",
       "      <th></th>\n",
       "    </tr>\n",
       "  </thead>\n",
       "  <tbody>\n",
       "    <tr>\n",
       "      <th>0.0</th>\n",
       "      <td>96</td>\n",
       "      <td>112</td>\n",
       "    </tr>\n",
       "    <tr>\n",
       "      <th>1.0</th>\n",
       "      <td>348</td>\n",
       "      <td>444</td>\n",
       "    </tr>\n",
       "  </tbody>\n",
       "</table>\n",
       "</div>"
      ],
      "text/plain": [
       "feature2  0.0  1.0\n",
       "feature1          \n",
       "0.0        96  112\n",
       "1.0       348  444"
      ]
     },
     "execution_count": 14,
     "metadata": {},
     "output_type": "execute_result"
    }
   ],
   "source": [
    "# Сформируем эмперические выборки\n",
    "obs_1_pivot = pd.pivot_table(data=round_mode_1, index='feature1', \n",
    "                           columns='feature2', values='user_id', \n",
    "                           aggfunc='count')\n",
    "\n",
    "obs_1_pivot"
   ]
  },
  {
   "cell_type": "code",
   "execution_count": 15,
   "metadata": {},
   "outputs": [
    {
     "data": {
      "text/html": [
       "<div>\n",
       "<style scoped>\n",
       "    .dataframe tbody tr th:only-of-type {\n",
       "        vertical-align: middle;\n",
       "    }\n",
       "\n",
       "    .dataframe tbody tr th {\n",
       "        vertical-align: top;\n",
       "    }\n",
       "\n",
       "    .dataframe thead th {\n",
       "        text-align: right;\n",
       "    }\n",
       "</style>\n",
       "<table border=\"1\" class=\"dataframe\">\n",
       "  <thead>\n",
       "    <tr style=\"text-align: right;\">\n",
       "      <th>feature2</th>\n",
       "      <th>0.0</th>\n",
       "      <th>1.0</th>\n",
       "    </tr>\n",
       "    <tr>\n",
       "      <th>feature1</th>\n",
       "      <th></th>\n",
       "      <th></th>\n",
       "    </tr>\n",
       "  </thead>\n",
       "  <tbody>\n",
       "    <tr>\n",
       "      <th>0.0</th>\n",
       "      <td>179</td>\n",
       "      <td>141</td>\n",
       "    </tr>\n",
       "    <tr>\n",
       "      <th>1.0</th>\n",
       "      <td>382</td>\n",
       "      <td>298</td>\n",
       "    </tr>\n",
       "  </tbody>\n",
       "</table>\n",
       "</div>"
      ],
      "text/plain": [
       "feature2  0.0  1.0\n",
       "feature1          \n",
       "0.0       179  141\n",
       "1.0       382  298"
      ]
     },
     "execution_count": 15,
     "metadata": {},
     "output_type": "execute_result"
    }
   ],
   "source": [
    "obs_0_pivot = pd.pivot_table(data=round_mode_0, index='feature1', \n",
    "                           columns='feature2', values='user_id', \n",
    "                           aggfunc='count')\n",
    "obs_0_pivot"
   ]
  },
  {
   "cell_type": "code",
   "execution_count": 16,
   "metadata": {},
   "outputs": [
    {
     "name": "stdout",
     "output_type": "stream",
     "text": [
      "Эмпирические значения при округлении до 1:\n",
      " [[ 96 112]\n",
      " [348 444]]\n",
      "Эмпирические значения при округлении до 0:\n",
      " [[179 141]\n",
      " [382 298]]\n",
      "\n",
      "Теоретические значения при округлении до 1:\n",
      " [[ 92.352 115.648]\n",
      " [351.648 440.352]]\n",
      "Теоретические значения при округлении до 0:\n",
      " [[179.52 140.48]\n",
      " [381.48 298.52]]\n",
      "\n",
      "Значение pvalue для Хи-квадрат при округлении до 1: 0.5673\n",
      "Значение pvalue для Хи-квадрат при округлении до 0: 0.9434\n"
     ]
    }
   ],
   "source": [
    "chi2, p_1, dof, ex_1, chi2_yates, p_yates = get_chi2(obs_1_pivot)\n",
    "chi2, p_0, dof, ex_0, chi2_yates, p_yates = get_chi2(obs_0_pivot)\n",
    "\n",
    "print('Эмпирические значения при округлении до 1:\\n', obs_1_pivot.values)\n",
    "print('Эмпирические значения при округлении до 0:\\n', obs_0_pivot.values)\n",
    "\n",
    "print('\\nТеоретические значения при округлении до 1:\\n', ex_1)\n",
    "print('Теоретические значения при округлении до 0:\\n', ex_0)\n",
    "\n",
    "print('\\nЗначение pvalue для Хи-квадрат при округлении до 1:', round(p_1, 4))\n",
    "print('Значение pvalue для Хи-квадрат при округлении до 0:', round(p_0, 4))"
   ]
  },
  {
   "cell_type": "markdown",
   "metadata": {},
   "source": [
    "В обоих случаях p > 0.05. Причем при округлении до нуля эмпирическая выборка почти идеально совпадает с теоретически ожидаемыми значениями. \n",
    "Теперь у меня есть основания полагать, что признаки f1 и f2 статистически независимы. Нулевая гипотеза не отвергается.\n"
   ]
  },
  {
   "cell_type": "markdown",
   "metadata": {},
   "source": [
    "# Оценка значимости признаков для целевой переменной\n",
    "H0: различия эмпирических и теоретических частот статистически не значительны\n",
    "\n",
    "α = 0.05"
   ]
  },
  {
   "cell_type": "code",
   "execution_count": 17,
   "metadata": {},
   "outputs": [
    {
     "data": {
      "text/plain": [
       "(1048, 4)"
      ]
     },
     "execution_count": 17,
     "metadata": {},
     "output_type": "execute_result"
    }
   ],
   "source": [
    "# Колличество наблюдений с Y=1\n",
    "features_data.query('target == 1').shape"
   ]
  },
  {
   "cell_type": "code",
   "execution_count": 18,
   "metadata": {},
   "outputs": [
    {
     "data": {
      "image/png": "[encoded data removed]",
      "text/plain": [
       "<Figure size 1008x432 with 1 Axes>"
      ]
     },
     "metadata": {},
     "output_type": "display_data"
    }
   ],
   "source": [
    "# Распределение целевой переменной для всех наблюдений\n",
    "norm_target = (features_data\n",
    "               .target\n",
    "               .value_counts(normalize=True)\n",
    "               .mul(100)\n",
    "               .rename('percent')\n",
    "               .reset_index())\n",
    "bp = sns.barplot(data=norm_target, y='percent', x='index')\n",
    "bp.set_xticklabels([0,1])\n",
    "sets_for_plot(plot=bp, title='Процент target для всех наблюдений\\n',\n",
    "              ylabel='Проценты')\n",
    "\n",
    "# Вывод значений над столбцами\n",
    "for p in bp.patches:\n",
    "    bp.annotate(format(p.get_height(), '.1f'), \n",
    "                   (p.get_x() + p.get_width() / 2., p.get_height()), \n",
    "                   ha = 'center', va = 'center', \n",
    "                   xytext = (0, 9), \n",
    "                   textcoords = 'offset points')"
   ]
  },
  {
   "cell_type": "code",
   "execution_count": 19,
   "metadata": {},
   "outputs": [
    {
     "data": {
      "text/html": [
       "<div>\n",
       "<style scoped>\n",
       "    .dataframe tbody tr th:only-of-type {\n",
       "        vertical-align: middle;\n",
       "    }\n",
       "\n",
       "    .dataframe tbody tr th {\n",
       "        vertical-align: top;\n",
       "    }\n",
       "\n",
       "    .dataframe thead th {\n",
       "        text-align: right;\n",
       "    }\n",
       "</style>\n",
       "<table border=\"1\" class=\"dataframe\">\n",
       "  <thead>\n",
       "    <tr style=\"text-align: right;\">\n",
       "      <th></th>\n",
       "      <th>user_id</th>\n",
       "      <th>feature1</th>\n",
       "      <th>feature2</th>\n",
       "      <th>target</th>\n",
       "    </tr>\n",
       "  </thead>\n",
       "  <tbody>\n",
       "    <tr>\n",
       "      <th>595</th>\n",
       "      <td>595</td>\n",
       "      <td>0.5</td>\n",
       "      <td>1.0</td>\n",
       "      <td>0.5</td>\n",
       "    </tr>\n",
       "    <tr>\n",
       "      <th>797</th>\n",
       "      <td>797</td>\n",
       "      <td>1.0</td>\n",
       "      <td>0.0</td>\n",
       "      <td>1.0</td>\n",
       "    </tr>\n",
       "    <tr>\n",
       "      <th>900</th>\n",
       "      <td>900</td>\n",
       "      <td>1.0</td>\n",
       "      <td>1.0</td>\n",
       "      <td>1.0</td>\n",
       "    </tr>\n",
       "    <tr>\n",
       "      <th>949</th>\n",
       "      <td>949</td>\n",
       "      <td>0.5</td>\n",
       "      <td>0.0</td>\n",
       "      <td>0.5</td>\n",
       "    </tr>\n",
       "  </tbody>\n",
       "</table>\n",
       "</div>"
      ],
      "text/plain": [
       "     user_id  feature1  feature2  target\n",
       "595      595       0.5       1.0     0.5\n",
       "797      797       1.0       0.0     1.0\n",
       "900      900       1.0       1.0     1.0\n",
       "949      949       0.5       0.0     0.5"
      ]
     },
     "execution_count": 19,
     "metadata": {},
     "output_type": "execute_result"
    }
   ],
   "source": [
    "# Мода f1, f2, Y для каждого пользователя\n",
    "mods_for_users_with_target = features_data.groupby('user_id', as_index=False) \\\n",
    "                              .agg({'feature1': 'median', 'feature2': 'median', 'target': 'median'})\n",
    "mods_for_users_with_target.query('target == 1 or target == 0.5')"
   ]
  },
  {
   "cell_type": "markdown",
   "metadata": {},
   "source": [
    "Видно, что изначально target принимал значение 1 с шансом 1:9. При подсчете моды неудивительно, что всего 4 наблюдения получили значение моды отличное от нуля"
   ]
  },
  {
   "cell_type": "code",
   "execution_count": 20,
   "metadata": {},
   "outputs": [
    {
     "name": "stdout",
     "output_type": "stream",
     "text": [
      "f_round=0, y_round=0 \n",
      "\n",
      "Эмпирические значения:\n",
      " [[179.   0.]\n",
      " [141.   0.]\n",
      " [381.   1.]\n",
      " [297.   1.]]\n",
      "Теоретически ожидаемые значения:\n",
      " [[1.786e+02 4.000e-01]\n",
      " [1.407e+02 3.000e-01]\n",
      " [3.812e+02 8.000e-01]\n",
      " [2.974e+02 6.000e-01]]\n",
      "\n",
      "Значение pvalue для Хи-квадрат: 0.804\n",
      "Значение pvalue с поправкой Йетса: 0.804\n",
      "==========================\n",
      "\n",
      "f_round=0, y_round=1 \n",
      "\n",
      "Эмпирические значения:\n",
      " [[178   1]\n",
      " [140   1]\n",
      " [381   1]\n",
      " [297   1]]\n",
      "Теоретически ожидаемые значения:\n",
      " [[178.3   0.7]\n",
      " [140.4   0.6]\n",
      " [380.5   1.5]\n",
      " [296.8   1.2]]\n",
      "\n",
      "Значение pvalue для Хи-квадрат: 0.8812\n",
      "Значение pvalue с поправкой Йетса: 0.8812\n",
      "==========================\n",
      "\n",
      "f_round=1, y_round=0 \n",
      "\n",
      "Эмпирические значения:\n",
      " [[ 96.   0.]\n",
      " [112.   0.]\n",
      " [347.   1.]\n",
      " [443.   1.]]\n",
      "Теоретически ожидаемые значения:\n",
      " [[9.580e+01 2.000e-01]\n",
      " [1.118e+02 2.000e-01]\n",
      " [3.473e+02 7.000e-01]\n",
      " [4.431e+02 9.000e-01]]\n",
      "\n",
      "Значение pvalue для Хи-квадрат: 0.9046\n",
      "Значение pvalue с поправкой Йетса: 0.9046\n",
      "==========================\n",
      "\n",
      "f_round=1, y_round=1 \n",
      "\n",
      "Эмпирические значения:\n",
      " [[ 96.   0.]\n",
      " [112.   0.]\n",
      " [346.   2.]\n",
      " [442.   2.]]\n",
      "Теоретически ожидаемые значения:\n",
      " [[9.560e+01 4.000e-01]\n",
      " [1.116e+02 4.000e-01]\n",
      " [3.466e+02 1.400e+00]\n",
      " [4.422e+02 1.800e+00]]\n",
      "\n",
      "Значение pvalue для Хи-квадрат: 0.7698\n",
      "Значение pvalue с поправкой Йетса: 0.7698\n",
      "==========================\n",
      "\n"
     ]
    }
   ],
   "source": [
    "# От вариаций округления будет меняться и значение хи-квадрат\n",
    "\n",
    "for f_round in range(2):\n",
    "    for y_round in range(2):\n",
    "        df = mods_for_users_with_target.copy()\n",
    "        df.feature1 = df.feature1.replace({0.5:f_round})\n",
    "        df.feature2 = df.feature2.replace({0.5:f_round})\n",
    "        df.target = df.target.replace({0.5:y_round})\n",
    "        \n",
    "        obs = pd.pivot_table(data=df, index=['feature1', 'feature2'], \n",
    "                           columns='target', values='user_id', \n",
    "                           aggfunc='count')\n",
    "        obs.fillna(0, inplace=True)\n",
    "        \n",
    "        chi2, p, dof, ex, chi2_yates, p_yates = get_chi2(obs)\n",
    "        \n",
    "        print(f'{f_round=}, {y_round=} \\n')\n",
    "        print('Эмпирические значения:\\n', obs.values)\n",
    "        print('Теоретически ожидаемые значения:\\n', ex.round(1))\n",
    "        print('\\nЗначение pvalue для Хи-квадрат:', round(p, 4))\n",
    "        print('Значение pvalue с поправкой Йетса:', round(p_yates, 4))\n",
    "        print('==========================\\n')"
   ]
  },
  {
   "cell_type": "markdown",
   "metadata": {},
   "source": [
    "Ни для одной комбинации не имеет смысла отвергать H0. Вывод ни один из признаков (а также их комбинация) не оказывают статистически значимого влияния на целевую переменную"
   ]
  },
  {
   "cell_type": "markdown",
   "metadata": {},
   "source": [
    "#### Попробую также провести проверку хи-квадрат, если абстрагироваться от того, что наблюдения получены от одних и тех же клиентов"
   ]
  },
  {
   "cell_type": "code",
   "execution_count": 21,
   "metadata": {},
   "outputs": [
    {
     "data": {
      "text/html": [
       "<div>\n",
       "<style scoped>\n",
       "    .dataframe tbody tr th:only-of-type {\n",
       "        vertical-align: middle;\n",
       "    }\n",
       "\n",
       "    .dataframe tbody tr th {\n",
       "        vertical-align: top;\n",
       "    }\n",
       "\n",
       "    .dataframe thead th {\n",
       "        text-align: right;\n",
       "    }\n",
       "</style>\n",
       "<table border=\"1\" class=\"dataframe\">\n",
       "  <thead>\n",
       "    <tr style=\"text-align: right;\">\n",
       "      <th></th>\n",
       "      <th>target</th>\n",
       "      <th>0.0</th>\n",
       "      <th>1.0</th>\n",
       "    </tr>\n",
       "    <tr>\n",
       "      <th>feature1</th>\n",
       "      <th>feature2</th>\n",
       "      <th></th>\n",
       "      <th></th>\n",
       "    </tr>\n",
       "  </thead>\n",
       "  <tbody>\n",
       "    <tr>\n",
       "      <th rowspan=\"2\" valign=\"top\">0</th>\n",
       "      <th>0</th>\n",
       "      <td>1888</td>\n",
       "      <td>120</td>\n",
       "    </tr>\n",
       "    <tr>\n",
       "      <th>1</th>\n",
       "      <td>1894</td>\n",
       "      <td>98</td>\n",
       "    </tr>\n",
       "    <tr>\n",
       "      <th rowspan=\"2\" valign=\"top\">1</th>\n",
       "      <th>0</th>\n",
       "      <td>2558</td>\n",
       "      <td>434</td>\n",
       "    </tr>\n",
       "    <tr>\n",
       "      <th>1</th>\n",
       "      <td>2612</td>\n",
       "      <td>396</td>\n",
       "    </tr>\n",
       "  </tbody>\n",
       "</table>\n",
       "</div>"
      ],
      "text/plain": [
       "target              0.0  1.0\n",
       "feature1 feature2           \n",
       "0        0         1888  120\n",
       "         1         1894   98\n",
       "1        0         2558  434\n",
       "         1         2612  396"
      ]
     },
     "execution_count": 21,
     "metadata": {},
     "output_type": "execute_result"
    }
   ],
   "source": [
    "obs = pd.pivot_table(data=features_data, index=['feature1', 'feature2'], \n",
    "                    columns='target', values='user_id', \n",
    "                    aggfunc='count')\n",
    "obs"
   ]
  },
  {
   "cell_type": "code",
   "execution_count": 22,
   "metadata": {},
   "outputs": [
    {
     "name": "stdout",
     "output_type": "stream",
     "text": [
      "Значение хи-квадрат: 183.8514823029023\n",
      "Эмпирические значения:\n",
      " [[1888  120]\n",
      " [1894   98]\n",
      " [2558  434]\n",
      " [2612  396]]\n",
      "Теоретически ожидаемые значения:\n",
      " [[1797.6  210.4]\n",
      " [1783.2  208.8]\n",
      " [2678.4  313.6]\n",
      " [2692.8  315.2]]\n",
      "\n",
      "Значение pvalue для Хи-квадрат: 1.2991961595479963e-39\n",
      "Значение pvalue с поправкой Йетса: 1.2991961595479963e-39\n"
     ]
    }
   ],
   "source": [
    "chi2, p, dof, ex, chi2_yates, p_yates = get_chi2(obs)\n",
    "print(f'Значение хи-квадрат: {chi2}')\n",
    "print('Эмпирические значения:\\n', obs.values)\n",
    "print('Теоретически ожидаемые значения:\\n', ex.round(1))\n",
    "print('\\nЗначение pvalue для Хи-квадрат:', p)\n",
    "print('Значение pvalue с поправкой Йетса:', p_yates)"
   ]
  },
  {
   "cell_type": "markdown",
   "metadata": {},
   "source": [
    "В данном случае значимость действительно обнаружена, но при это значение Хи-квадрат неоправданно большое, а p-value слишком маленькое. Связь просто космическая. Это заставляет сомневаться в результатах данного теста"
   ]
  },
  {
   "cell_type": "markdown",
   "metadata": {},
   "source": [
    "# Логистической регрессия\n",
    "Подтвержает обе ситуации"
   ]
  },
  {
   "cell_type": "code",
   "execution_count": 23,
   "metadata": {},
   "outputs": [
    {
     "name": "stdout",
     "output_type": "stream",
     "text": [
      "Optimization terminated successfully.\n",
      "         Current function value: 0.325557\n",
      "         Iterations 7\n"
     ]
    },
    {
     "data": {
      "text/html": [
       "<table class=\"simpletable\">\n",
       "<caption>Logit Regression Results</caption>\n",
       "<tr>\n",
       "  <th>Dep. Variable:</th>        <td>target</td>      <th>  No. Observations:  </th>  <td> 10000</td>  \n",
       "</tr>\n",
       "<tr>\n",
       "  <th>Model:</th>                 <td>Logit</td>      <th>  Df Residuals:      </th>  <td>  9996</td>  \n",
       "</tr>\n",
       "<tr>\n",
       "  <th>Method:</th>                 <td>MLE</td>       <th>  Df Model:          </th>  <td>     3</td>  \n",
       "</tr>\n",
       "<tr>\n",
       "  <th>Date:</th>            <td>Sun, 20 Feb 2022</td> <th>  Pseudo R-squ.:     </th>  <td>0.02964</td> \n",
       "</tr>\n",
       "<tr>\n",
       "  <th>Time:</th>                <td>09:08:57</td>     <th>  Log-Likelihood:    </th> <td> -3255.6</td> \n",
       "</tr>\n",
       "<tr>\n",
       "  <th>converged:</th>             <td>True</td>       <th>  LL-Null:           </th> <td> -3355.0</td> \n",
       "</tr>\n",
       "<tr>\n",
       "  <th>Covariance Type:</th>     <td>nonrobust</td>    <th>  LLR p-value:       </th> <td>7.220e-43</td>\n",
       "</tr>\n",
       "</table>\n",
       "<table class=\"simpletable\">\n",
       "<tr>\n",
       "          <td></td>             <th>coef</th>     <th>std err</th>      <th>z</th>      <th>P>|z|</th>  <th>[0.025</th>    <th>0.975]</th>  \n",
       "</tr>\n",
       "<tr>\n",
       "  <th>Intercept</th>         <td>   -2.7558</td> <td>    0.094</td> <td>  -29.272</td> <td> 0.000</td> <td>   -2.940</td> <td>   -2.571</td>\n",
       "</tr>\n",
       "<tr>\n",
       "  <th>feature1</th>          <td>    0.9818</td> <td>    0.108</td> <td>    9.133</td> <td> 0.000</td> <td>    0.771</td> <td>    1.193</td>\n",
       "</tr>\n",
       "<tr>\n",
       "  <th>feature2</th>          <td>   -0.2057</td> <td>    0.140</td> <td>   -1.469</td> <td> 0.142</td> <td>   -0.480</td> <td>    0.069</td>\n",
       "</tr>\n",
       "<tr>\n",
       "  <th>feature1:feature2</th> <td>    0.0932</td> <td>    0.159</td> <td>    0.587</td> <td> 0.557</td> <td>   -0.218</td> <td>    0.404</td>\n",
       "</tr>\n",
       "</table>"
      ],
      "text/plain": [
       "<class 'statsmodels.iolib.summary.Summary'>\n",
       "\"\"\"\n",
       "                           Logit Regression Results                           \n",
       "==============================================================================\n",
       "Dep. Variable:                 target   No. Observations:                10000\n",
       "Model:                          Logit   Df Residuals:                     9996\n",
       "Method:                           MLE   Df Model:                            3\n",
       "Date:                Sun, 20 Feb 2022   Pseudo R-squ.:                 0.02964\n",
       "Time:                        09:08:57   Log-Likelihood:                -3255.6\n",
       "converged:                       True   LL-Null:                       -3355.0\n",
       "Covariance Type:            nonrobust   LLR p-value:                 7.220e-43\n",
       "=====================================================================================\n",
       "                        coef    std err          z      P>|z|      [0.025      0.975]\n",
       "-------------------------------------------------------------------------------------\n",
       "Intercept            -2.7558      0.094    -29.272      0.000      -2.940      -2.571\n",
       "feature1              0.9818      0.108      9.133      0.000       0.771       1.193\n",
       "feature2             -0.2057      0.140     -1.469      0.142      -0.480       0.069\n",
       "feature1:feature2     0.0932      0.159      0.587      0.557      -0.218       0.404\n",
       "=====================================================================================\n",
       "\"\"\""
      ]
     },
     "execution_count": 23,
     "metadata": {},
     "output_type": "execute_result"
    }
   ],
   "source": [
    "import statsmodels.formula.api as smf\n",
    "model = smf.logit(formula = 'target ~ feature1 + feature2 + feature1 * feature2', \n",
    "                  data = features_data).fit()\n",
    "model.summary()"
   ]
  },
  {
   "cell_type": "markdown",
   "metadata": {},
   "source": [
    "Учитываем все наблюдения, то все признаки значимы по pvalue"
   ]
  },
  {
   "cell_type": "code",
   "execution_count": 24,
   "metadata": {
    "scrolled": false
   },
   "outputs": [
    {
     "name": "stdout",
     "output_type": "stream",
     "text": [
      "Warning: Maximum number of iterations has been exceeded.\n",
      "         Current function value: 0.025113\n",
      "         Iterations: 35\n"
     ]
    },
    {
     "name": "stderr",
     "output_type": "stream",
     "text": [
      "C:\\Anaconda3\\lib\\site-packages\\statsmodels\\base\\model.py:566: ConvergenceWarning: Maximum Likelihood optimization failed to converge. Check mle_retvals\n",
      "  warnings.warn(\"Maximum Likelihood optimization failed to \"\n"
     ]
    },
    {
     "data": {
      "text/html": [
       "<table class=\"simpletable\">\n",
       "<caption>Logit Regression Results</caption>\n",
       "<tr>\n",
       "  <th>Dep. Variable:</th>        <td>target</td>      <th>  No. Observations:  </th>  <td>  1000</td> \n",
       "</tr>\n",
       "<tr>\n",
       "  <th>Model:</th>                 <td>Logit</td>      <th>  Df Residuals:      </th>  <td>   996</td> \n",
       "</tr>\n",
       "<tr>\n",
       "  <th>Method:</th>                 <td>MLE</td>       <th>  Df Model:          </th>  <td>     3</td> \n",
       "</tr>\n",
       "<tr>\n",
       "  <th>Date:</th>            <td>Sun, 20 Feb 2022</td> <th>  Pseudo R-squ.:     </th>  <td>0.03699</td>\n",
       "</tr>\n",
       "<tr>\n",
       "  <th>Time:</th>                <td>09:08:57</td>     <th>  Log-Likelihood:    </th> <td> -25.113</td>\n",
       "</tr>\n",
       "<tr>\n",
       "  <th>converged:</th>             <td>False</td>      <th>  LL-Null:           </th> <td> -26.078</td>\n",
       "</tr>\n",
       "<tr>\n",
       "  <th>Covariance Type:</th>     <td>nonrobust</td>    <th>  LLR p-value:       </th>  <td>0.5872</td> \n",
       "</tr>\n",
       "</table>\n",
       "<table class=\"simpletable\">\n",
       "<tr>\n",
       "          <td></td>             <th>coef</th>     <th>std err</th>      <th>z</th>      <th>P>|z|</th>  <th>[0.025</th>    <th>0.975]</th>  \n",
       "</tr>\n",
       "<tr>\n",
       "  <th>Intercept</th>         <td>  -21.8029</td> <td> 5537.285</td> <td>   -0.004</td> <td> 0.997</td> <td>-1.09e+04</td> <td> 1.08e+04</td>\n",
       "</tr>\n",
       "<tr>\n",
       "  <th>feature1</th>          <td>   16.6496</td> <td> 5537.285</td> <td>    0.003</td> <td> 0.998</td> <td>-1.08e+04</td> <td> 1.09e+04</td>\n",
       "</tr>\n",
       "<tr>\n",
       "  <th>feature2</th>          <td>    4.2174</td> <td> 5572.148</td> <td>    0.001</td> <td> 0.999</td> <td>-1.09e+04</td> <td> 1.09e+04</td>\n",
       "</tr>\n",
       "<tr>\n",
       "  <th>feature1:feature2</th> <td>   -4.4622</td> <td> 5572.148</td> <td>   -0.001</td> <td> 0.999</td> <td>-1.09e+04</td> <td> 1.09e+04</td>\n",
       "</tr>\n",
       "</table><br/><br/>Possibly complete quasi-separation: A fraction 0.21 of observations can be<br/>perfectly predicted. This might indicate that there is complete<br/>quasi-separation. In this case some parameters will not be identified."
      ],
      "text/plain": [
       "<class 'statsmodels.iolib.summary.Summary'>\n",
       "\"\"\"\n",
       "                           Logit Regression Results                           \n",
       "==============================================================================\n",
       "Dep. Variable:                 target   No. Observations:                 1000\n",
       "Model:                          Logit   Df Residuals:                      996\n",
       "Method:                           MLE   Df Model:                            3\n",
       "Date:                Sun, 20 Feb 2022   Pseudo R-squ.:                 0.03699\n",
       "Time:                        09:08:57   Log-Likelihood:                -25.113\n",
       "converged:                      False   LL-Null:                       -26.078\n",
       "Covariance Type:            nonrobust   LLR p-value:                    0.5872\n",
       "=====================================================================================\n",
       "                        coef    std err          z      P>|z|      [0.025      0.975]\n",
       "-------------------------------------------------------------------------------------\n",
       "Intercept           -21.8029   5537.285     -0.004      0.997   -1.09e+04    1.08e+04\n",
       "feature1             16.6496   5537.285      0.003      0.998   -1.08e+04    1.09e+04\n",
       "feature2              4.2174   5572.148      0.001      0.999   -1.09e+04    1.09e+04\n",
       "feature1:feature2    -4.4622   5572.148     -0.001      0.999   -1.09e+04    1.09e+04\n",
       "=====================================================================================\n",
       "\n",
       "Possibly complete quasi-separation: A fraction 0.21 of observations can be\n",
       "perfectly predicted. This might indicate that there is complete\n",
       "quasi-separation. In this case some parameters will not be identified.\n",
       "\"\"\""
      ]
     },
     "execution_count": 24,
     "metadata": {},
     "output_type": "execute_result"
    }
   ],
   "source": [
    "model = smf.logit(formula = 'target ~ feature1 + feature2 + feature1 * feature2', \n",
    "                  data = mods_for_users_with_target.replace({0.5: 1})).fit()\n",
    "model.summary()"
   ]
  },
  {
   "cell_type": "markdown",
   "metadata": {},
   "source": [
    "Берем моду от каждого клиента, то комбинации признаков не значимы по pvalue"
   ]
  },
  {
   "cell_type": "code",
   "execution_count": null,
   "metadata": {},
   "outputs": [],
   "source": []
  },
  {
   "cell_type": "markdown",
   "metadata": {},
   "source": [
    "# 2.Тестовое задание\n",
    "\n",
    "В данном задании необходимо написать код, который считает следующие признаки для каждого клиента `user_id`:\n",
    "\n",
    "1. `events_ordinal_number` - порядковый номер события\n",
    "2. `second_event_time` - время второго события\n",
    "2.\t`loan_ordinal_number` - порядковый номер займа\n",
    "2.\t`events_time_diff` - разница во времени между событиями\n",
    "2.\t`previous_loans_max_amount` - максимальная сумма предыдущего займа.\n"
   ]
  },
  {
   "cell_type": "markdown",
   "metadata": {},
   "source": [
    "### Подготовка датафрейма"
   ]
  },
  {
   "cell_type": "code",
   "execution_count": 25,
   "metadata": {
    "ExecuteTime": {
     "end_time": "2022-01-31T03:49:42.126788Z",
     "start_time": "2022-01-31T03:49:42.123378Z"
    }
   },
   "outputs": [],
   "source": [
    "import numpy as np\n",
    "\n",
    "from datetime import datetime"
   ]
  },
  {
   "cell_type": "code",
   "execution_count": 26,
   "metadata": {
    "ExecuteTime": {
     "end_time": "2022-01-31T03:49:43.232607Z",
     "start_time": "2022-01-31T03:49:42.885224Z"
    }
   },
   "outputs": [],
   "source": [
    "size = 10000\n",
    "\n",
    "df = pd.DataFrame(\n",
    "    {\n",
    "        'time': [*pd.date_range('2001-01-01', '2020-09-01', freq='1h')][:size],\n",
    "        'user_id': np.random.choice(1000, size),\n",
    "        'type': np.random.choice(2, size, p=[0.8, 0.2]),\n",
    "        'amount': [int(x//1) for x in np.random.normal(15_000, 1_000, size)],\n",
    "        'target': np.random.choice(2, size, p=[0.5, 0.5]),\n",
    "    },\n",
    "    index=[*range(size)],\n",
    ")"
   ]
  },
  {
   "cell_type": "code",
   "execution_count": 27,
   "metadata": {
    "ExecuteTime": {
     "end_time": "2022-01-31T03:49:46.319681Z",
     "start_time": "2022-01-31T03:49:46.314034Z"
    }
   },
   "outputs": [],
   "source": [
    "df['is_loan'] = df['type']\n",
    "df['type'] = df['type'].replace({0: 'loanRequest', 1: 'loan'})"
   ]
  },
  {
   "cell_type": "code",
   "execution_count": 28,
   "metadata": {
    "ExecuteTime": {
     "end_time": "2022-01-31T03:49:47.046951Z",
     "start_time": "2022-01-31T03:49:47.008314Z"
    }
   },
   "outputs": [],
   "source": [
    "df.to_csv('test_origin.csv', index=False)"
   ]
  },
  {
   "cell_type": "markdown",
   "metadata": {},
   "source": [
    "### Расчет признаков"
   ]
  },
  {
   "cell_type": "markdown",
   "metadata": {},
   "source": [
    "#### Признак `events_ordinal_number`"
   ]
  },
  {
   "cell_type": "code",
   "execution_count": 29,
   "metadata": {
    "ExecuteTime": {
     "end_time": "2022-01-31T03:51:18.742585Z",
     "start_time": "2022-01-31T03:51:18.739041Z"
    }
   },
   "outputs": [],
   "source": [
    "# весь код расчета признака должен быть в этом методе\n",
    "def calculate_events_number(df):\n",
    "    # Словарь для отслеживания количества событий для каждого клиента\n",
    "    users_numbers_dict = {}\n",
    "\n",
    "    # Функция для проверки количества запросов от данного клиента\n",
    "    def check_user(user_id):\n",
    "        # Если он был\n",
    "        if user_id in users_numbers_dict:\n",
    "            users_numbers_dict[user_id] += 1\n",
    "        # Если его не было\n",
    "        else:\n",
    "            users_numbers_dict[user_id] = 1\n",
    "\n",
    "        return users_numbers_dict[user_id]\n",
    "\n",
    "    # Необходимо чтобы df был отсортирован по дате события\n",
    "    df = df.sort_values('time')\n",
    "    df['events_ordinal_number'] = df.user_id.apply(check_user)\n",
    "\n",
    "    return df"
   ]
  },
  {
   "cell_type": "markdown",
   "metadata": {},
   "source": [
    "#### Признак `second_event_time`"
   ]
  },
  {
   "cell_type": "code",
   "execution_count": 30,
   "metadata": {
    "ExecuteTime": {
     "end_time": "2022-01-31T03:51:20.999794Z",
     "start_time": "2022-01-31T03:51:20.996142Z"
    }
   },
   "outputs": [],
   "source": [
    "# весь код расчета признака должен быть в этом методе\n",
    "def calculate_second_event_time(df):\n",
    "    # Словарь для отслеживания второго события каждого клиента\n",
    "    users_second_dict = {}\n",
    "\n",
    "    # Функция возвращающая время второго прихода клиента, если такое есть\n",
    "    def get_second_event_time(user_id):\n",
    "        try:\n",
    "            # Если не известно значение второго события, то пытаемся найти его по запросу\n",
    "            if user_id not in users_second_dict:\n",
    "                users_second_dict[user_id] = user_time_events \\\n",
    "                    .query('user_id == @user_id & events_ordinal_number == 2') \\\n",
    "                    .time \\\n",
    "                    .iloc[0]\n",
    "            return users_second_dict[user_id]\n",
    "\n",
    "        # В случае, если значения второго события нет, то iloc[0] отловит IndexError\n",
    "        except IndexError:\n",
    "            pass\n",
    "\n",
    "    # Рассчитаем по готовой функции номер каждого события если их нет\n",
    "    if 'events_ordinal_number' not in df.columns:\n",
    "        df = calculate_events_number(df)\n",
    "\n",
    "    # Отбираем только нужные поля\n",
    "    user_time_events = df[['user_id', 'time', 'events_ordinal_number']]\n",
    "\n",
    "    df['second_event_time'] = user_time_events.user_id.apply(\n",
    "        get_second_event_time)\n",
    "\n",
    "    return df"
   ]
  },
  {
   "cell_type": "markdown",
   "metadata": {},
   "source": [
    "#### Признак `loan_ordinal_number`"
   ]
  },
  {
   "cell_type": "code",
   "execution_count": 31,
   "metadata": {
    "ExecuteTime": {
     "end_time": "2022-01-31T03:51:22.879197Z",
     "start_time": "2022-01-31T03:51:22.875652Z"
    }
   },
   "outputs": [],
   "source": [
    "# весь код расчета признака должен быть в этом методе\n",
    "def calculate_loan_number(df):\n",
    "\n",
    "    # Словарь для отслеживания количества заявок для каждого клиента и предыдущий тип действия\n",
    "    users_loan_numbers_dict = {}\n",
    "\n",
    "    # Функция для проверки количества заявок от данного клиента\n",
    "    def check_loan_by_users(user_id, type_event):\n",
    "\n",
    "        # Если клиент впервые совершил дейтсвие\n",
    "        if user_id not in users_loan_numbers_dict:\n",
    "            users_loan_numbers_dict[user_id] = [type_event, 1]\n",
    "\n",
    "        # Если тип заявка\n",
    "        elif users_loan_numbers_dict[user_id][0] == 'loan':\n",
    "            users_loan_numbers_dict[user_id][1] += 1\n",
    "\n",
    "        users_loan_numbers_dict[user_id][0] = type_event\n",
    "        return users_loan_numbers_dict[user_id][1]\n",
    "\n",
    "    # Необходимо чтобы df был отсортирован по дате события\n",
    "    df = df.sort_values('time')\n",
    "    df['loan_ordinal_number'] = [check_loan_by_users(user_id, type_event)\n",
    "                                 for user_id, type_event in df[['user_id', 'type']].values]\n",
    "\n",
    "    return df"
   ]
  },
  {
   "cell_type": "markdown",
   "metadata": {},
   "source": [
    "#### Признак `events_time_diff`"
   ]
  },
  {
   "cell_type": "code",
   "execution_count": 32,
   "metadata": {
    "ExecuteTime": {
     "end_time": "2022-01-31T03:51:25.018203Z",
     "start_time": "2022-01-31T03:51:25.014557Z"
    }
   },
   "outputs": [],
   "source": [
    "# весь код расчета признака должен быть в этом методе\n",
    "def calculate_time_diff(df):\n",
    "\n",
    "    # Словарь для отслеживания времени предыдущего события для клиента\n",
    "    times_previous_event_dict = {}\n",
    "\n",
    "    # Функция для получение дельты между датой текущего события и предыдущего\n",
    "    def difference_from_previous_date(user_id, time):\n",
    "\n",
    "        # Если клиент впервые совершил дейтсвие\n",
    "        if user_id not in times_previous_event_dict:\n",
    "            times_previous_event_dict[user_id] = time\n",
    "            return np.nan\n",
    "\n",
    "        # Если нет, то вернем разницу во времени с предыдущим событием\n",
    "        else:\n",
    "            delta = time - times_previous_event_dict[user_id]\n",
    "            times_previous_event_dict[user_id] = time\n",
    "            return delta\n",
    "\n",
    "    # Необходимо чтобы df был отсортирован по дате события\n",
    "    df = df.sort_values('time')\n",
    "    df['events_time_diff'] = [difference_from_previous_date(user_id, time)\n",
    "                              for user_id, time in df[['user_id', 'time']].values]\n",
    "\n",
    "    return df"
   ]
  },
  {
   "cell_type": "markdown",
   "metadata": {},
   "source": [
    "#### Признак `previous_loans_max_amount`"
   ]
  },
  {
   "cell_type": "code",
   "execution_count": 33,
   "metadata": {
    "ExecuteTime": {
     "end_time": "2022-01-31T03:51:26.966306Z",
     "start_time": "2022-01-31T03:51:26.961723Z"
    }
   },
   "outputs": [],
   "source": [
    "# весь код расчета признака должен быть в этом методе\n",
    "def calculate_previous_max_amount(df):\n",
    "\n",
    "    # Словарь для отслеживания максимальной суммы займа для каждого клиента\n",
    "    max_amount_dict = {}\n",
    "\n",
    "    # Функция для определения предыдущей суммы займа\n",
    "    def max_amount(user_id, type_event, amount):\n",
    "\n",
    "        # Если клиент впервые совершил займ, то добавим его в словарь\n",
    "        if user_id not in max_amount_dict and type_event == 'loan':\n",
    "            max_amount_dict[user_id] = amount\n",
    "            return np.nan\n",
    "\n",
    "        # Если событие-займ, то вернем предыдущее и рассчитаем максимальное\n",
    "        elif type_event == 'loan':\n",
    "            previous_max_amount = max_amount_dict[user_id]\n",
    "            max_amount_dict[user_id] = max(amount, previous_max_amount)\n",
    "            return previous_max_amount\n",
    "\n",
    "        # Если пользователь уже совершал займ, то возвращать его величину\n",
    "        if user_id in max_amount_dict:\n",
    "            return max_amount_dict[user_id]\n",
    "\n",
    "    # Необходимо чтобы df был отсортирован по дате события\n",
    "    df = df.sort_values('time')\n",
    "    df['previous_loans_max_amount'] = [max_amount(user_id, type_event, amount)\n",
    "                                       for user_id, type_event, amount in df[['user_id', 'type', 'amount']].values]\n",
    "\n",
    "    return df"
   ]
  },
  {
   "cell_type": "markdown",
   "metadata": {},
   "source": [
    "### Сохранение итогового датасета с признаками\n",
    "\n",
    "Этот код трогать не нужно."
   ]
  },
  {
   "cell_type": "code",
   "execution_count": 34,
   "metadata": {
    "ExecuteTime": {
     "end_time": "2022-01-31T03:51:29.334833Z",
     "start_time": "2022-01-31T03:51:29.331495Z"
    }
   },
   "outputs": [],
   "source": [
    "def calculate_feature(df):\n",
    "    calculate_events_number(df)\n",
    "    calculate_second_event_time(df)\n",
    "    calculate_loan_number(df)\n",
    "    calculate_time_diff(df)\n",
    "    calculate_previous_max_amount(df)"
   ]
  },
  {
   "cell_type": "code",
   "execution_count": 35,
   "metadata": {
    "ExecuteTime": {
     "end_time": "2022-01-31T03:53:20.750966Z",
     "start_time": "2022-01-31T03:53:17.888812Z"
    }
   },
   "outputs": [
    {
     "name": "stdout",
     "output_type": "stream",
     "text": [
      "1.81 s ± 11.7 ms per loop (mean ± std. dev. of 7 runs, 1 loop each)\n"
     ]
    },
    {
     "data": {
      "text/plain": [
       "<TimeitResult : 1.81 s ± 11.7 ms per loop (mean ± std. dev. of 7 runs, 1 loop each)>"
      ]
     },
     "execution_count": 35,
     "metadata": {},
     "output_type": "execute_result"
    }
   ],
   "source": [
    "%%timeit -o\n",
    "calculate_feature(df)"
   ]
  },
  {
   "cell_type": "code",
   "execution_count": 36,
   "metadata": {
    "ExecuteTime": {
     "end_time": "2022-01-31T03:53:22.588760Z",
     "start_time": "2022-01-31T03:53:22.583736Z"
    }
   },
   "outputs": [],
   "source": [
    "columns = ['time']\n",
    "rez = _\n",
    "df_time = pd.DataFrame([rez], None, columns)\n",
    "df_time.to_csv('time.csv', index=False)"
   ]
  },
  {
   "cell_type": "code",
   "execution_count": 37,
   "metadata": {
    "ExecuteTime": {
     "end_time": "2022-01-27T10:22:50.404760Z",
     "start_time": "2022-01-27T10:22:50.349771Z"
    }
   },
   "outputs": [],
   "source": [
    "df.to_csv('test.csv', index=False)"
   ]
  },
  {
   "cell_type": "code",
   "execution_count": null,
   "metadata": {},
   "outputs": [],
   "source": []
  }
 ],
 "metadata": {
  "kernelspec": {
   "display_name": "Python 3 (ipykernel)",
   "language": "python",
   "name": "python3"
  },
  "language_info": {
   "codemirror_mode": {
    "name": "ipython",
    "version": 3
   },
   "file_extension": ".py",
   "mimetype": "text/x-python",
   "name": "python",
   "nbconvert_exporter": "python",
   "pygments_lexer": "ipython3",
   "version": "3.9.7"
  },
  "toc": {
   "base_numbering": 1,
   "nav_menu": {},
   "number_sections": true,
   "sideBar": true,
   "skip_h1_title": false,
   "title_cell": "Table of Contents",
   "title_sidebar": "Contents",
   "toc_cell": false,
   "toc_position": {},
   "toc_section_display": true,
   "toc_window_display": true
  },
  "varInspector": {
   "cols": {
    "lenName": 16,
    "lenType": 16,
    "lenVar": 40
   },
   "kernels_config": {
    "python": {
     "delete_cmd_postfix": "",
     "delete_cmd_prefix": "del ",
     "library": "var_list.py",
     "varRefreshCmd": "print(var_dic_list())"
    },
    "r": {
     "delete_cmd_postfix": ") ",
     "delete_cmd_prefix": "rm(",
     "library": "var_list.r",
     "varRefreshCmd": "cat(var_dic_list()) "
    }
   },
   "types_to_exclude": [
    "module",
    "function",
    "builtin_function_or_method",
    "instance",
    "_Feature"
   ],
   "window_display": false
  }
 },
 "nbformat": 4,
 "nbformat_minor": 4
}
